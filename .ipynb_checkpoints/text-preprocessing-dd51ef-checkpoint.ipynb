{
 "cells": [
  {
   "cell_type": "code",
   "execution_count": null,
   "metadata": {
    "_cell_guid": "b1076dfc-b9ad-4769-8c92-a6c4dae69d19",
    "_uuid": "8f2839f25d086af736a60e9eeb907d3b93b6e0e5",
    "execution": {
     "iopub.execute_input": "2022-03-25T05:02:59.320944Z",
     "iopub.status.busy": "2022-03-25T05:02:59.320389Z",
     "iopub.status.idle": "2022-03-25T05:02:59.354933Z",
     "shell.execute_reply": "2022-03-25T05:02:59.354247Z",
     "shell.execute_reply.started": "2022-03-25T05:02:59.320839Z"
    }
   },
   "outputs": [],
   "source": [
    "# This Python 3 environment comes with many helpful analytics libraries installed\n",
    "# It is defined by the kaggle/python Docker image: https://github.com/kaggle/docker-python\n",
    "# For example, here's several helpful packages to load\n",
    "\n",
    "import numpy as np # linear algebra\n",
    "import pandas as pd # data processing, CSV file I/O (e.g. pd.read_csv)\n",
    "\n",
    "# Input data files are available in the read-only \"../input/\" directory\n",
    "# For example, running this (by clicking run or pressing Shift+Enter) will list all files under the input directory\n",
    "\n",
    "import os\n",
    "for dirname, _, filenames in os.walk('/kaggle/input'):\n",
    "    for filename in filenames:\n",
    "        print(os.path.join(dirname, filename))\n",
    "\n",
    "# You can write up to 20GB to the current directory (/kaggle/working/) that gets preserved as output when you create a version using \"Save & Run All\" \n",
    "# You can also write temporary files to /kaggle/temp/, but they won't be saved outside of the current session"
   ]
  },
  {
   "cell_type": "code",
   "execution_count": null,
   "metadata": {
    "execution": {
     "iopub.execute_input": "2022-03-25T05:03:00.600481Z",
     "iopub.status.busy": "2022-03-25T05:03:00.600152Z",
     "iopub.status.idle": "2022-03-25T05:03:01.939617Z",
     "shell.execute_reply": "2022-03-25T05:03:01.938863Z",
     "shell.execute_reply.started": "2022-03-25T05:03:00.600445Z"
    }
   },
   "outputs": [],
   "source": [
    "df = pd.read_csv('/kaggle/input/imdb-dataset-of-50k-movie-reviews/IMDB Dataset.csv')"
   ]
  },
  {
   "cell_type": "code",
   "execution_count": null,
   "metadata": {
    "execution": {
     "iopub.execute_input": "2022-03-25T05:03:01.941735Z",
     "iopub.status.busy": "2022-03-25T05:03:01.941469Z",
     "iopub.status.idle": "2022-03-25T05:03:01.9491Z",
     "shell.execute_reply": "2022-03-25T05:03:01.948372Z",
     "shell.execute_reply.started": "2022-03-25T05:03:01.941701Z"
    }
   },
   "outputs": [],
   "source": [
    "df.shape"
   ]
  },
  {
   "cell_type": "code",
   "execution_count": null,
   "metadata": {
    "execution": {
     "iopub.execute_input": "2022-03-25T05:03:03.893173Z",
     "iopub.status.busy": "2022-03-25T05:03:03.892683Z",
     "iopub.status.idle": "2022-03-25T05:03:03.909097Z",
     "shell.execute_reply": "2022-03-25T05:03:03.908272Z",
     "shell.execute_reply.started": "2022-03-25T05:03:03.893133Z"
    }
   },
   "outputs": [],
   "source": [
    "df.head()"
   ]
  },
  {
   "cell_type": "code",
   "execution_count": null,
   "metadata": {
    "execution": {
     "iopub.execute_input": "2022-03-25T05:03:04.094416Z",
     "iopub.status.busy": "2022-03-25T05:03:04.093874Z",
     "iopub.status.idle": "2022-03-25T05:03:04.102952Z",
     "shell.execute_reply": "2022-03-25T05:03:04.102096Z",
     "shell.execute_reply.started": "2022-03-25T05:03:04.094376Z"
    }
   },
   "outputs": [],
   "source": [
    "df['review'][3].lower()"
   ]
  },
  {
   "cell_type": "code",
   "execution_count": null,
   "metadata": {
    "execution": {
     "iopub.execute_input": "2022-03-25T05:03:04.317042Z",
     "iopub.status.busy": "2022-03-25T05:03:04.31641Z",
     "iopub.status.idle": "2022-03-25T05:03:04.460757Z",
     "shell.execute_reply": "2022-03-25T05:03:04.46003Z",
     "shell.execute_reply.started": "2022-03-25T05:03:04.317003Z"
    }
   },
   "outputs": [],
   "source": [
    "df['review'] = df['review'].str.lower()"
   ]
  },
  {
   "cell_type": "code",
   "execution_count": null,
   "metadata": {
    "execution": {
     "iopub.execute_input": "2022-03-25T05:03:04.554742Z",
     "iopub.status.busy": "2022-03-25T05:03:04.554517Z",
     "iopub.status.idle": "2022-03-25T05:03:04.565221Z",
     "shell.execute_reply": "2022-03-25T05:03:04.564528Z",
     "shell.execute_reply.started": "2022-03-25T05:03:04.554714Z"
    }
   },
   "outputs": [],
   "source": [
    "df"
   ]
  },
  {
   "cell_type": "code",
   "execution_count": null,
   "metadata": {
    "execution": {
     "iopub.execute_input": "2022-03-25T05:03:04.755689Z",
     "iopub.status.busy": "2022-03-25T05:03:04.755208Z",
     "iopub.status.idle": "2022-03-25T05:03:04.759454Z",
     "shell.execute_reply": "2022-03-25T05:03:04.758611Z",
     "shell.execute_reply.started": "2022-03-25T05:03:04.755655Z"
    }
   },
   "outputs": [],
   "source": [
    "import re\n",
    "def remove_html_tags(text):\n",
    "    pattern = re.compile('<.*?>')\n",
    "    return pattern.sub(r'', text)"
   ]
  },
  {
   "cell_type": "code",
   "execution_count": null,
   "metadata": {
    "execution": {
     "iopub.execute_input": "2022-03-25T05:03:04.963441Z",
     "iopub.status.busy": "2022-03-25T05:03:04.96276Z",
     "iopub.status.idle": "2022-03-25T05:03:04.967239Z",
     "shell.execute_reply": "2022-03-25T05:03:04.966406Z",
     "shell.execute_reply.started": "2022-03-25T05:03:04.963401Z"
    }
   },
   "outputs": [],
   "source": [
    "text = \"<html><body><p> Movie 1</p><p> Actor - Aamir Khan</p><p> Click here to <a href='http://google.com'>download</a></p></body></html>\""
   ]
  },
  {
   "cell_type": "code",
   "execution_count": null,
   "metadata": {
    "execution": {
     "iopub.execute_input": "2022-03-25T05:03:05.177775Z",
     "iopub.status.busy": "2022-03-25T05:03:05.177277Z",
     "iopub.status.idle": "2022-03-25T05:03:05.183489Z",
     "shell.execute_reply": "2022-03-25T05:03:05.182521Z",
     "shell.execute_reply.started": "2022-03-25T05:03:05.177738Z"
    }
   },
   "outputs": [],
   "source": [
    "remove_html_tags(text)"
   ]
  },
  {
   "cell_type": "code",
   "execution_count": null,
   "metadata": {
    "execution": {
     "iopub.execute_input": "2022-03-25T05:03:05.378411Z",
     "iopub.status.busy": "2022-03-25T05:03:05.377908Z",
     "iopub.status.idle": "2022-03-25T05:03:05.565281Z",
     "shell.execute_reply": "2022-03-25T05:03:05.564523Z",
     "shell.execute_reply.started": "2022-03-25T05:03:05.378372Z"
    }
   },
   "outputs": [],
   "source": [
    "df['review'] = df['review'].apply(remove_html_tags)"
   ]
  },
  {
   "cell_type": "code",
   "execution_count": null,
   "metadata": {
    "execution": {
     "iopub.execute_input": "2022-03-25T05:03:05.605062Z",
     "iopub.status.busy": "2022-03-25T05:03:05.604839Z",
     "iopub.status.idle": "2022-03-25T05:03:05.610927Z",
     "shell.execute_reply": "2022-03-25T05:03:05.610236Z",
     "shell.execute_reply.started": "2022-03-25T05:03:05.605036Z"
    }
   },
   "outputs": [],
   "source": [
    "df['review'][5]"
   ]
  },
  {
   "cell_type": "code",
   "execution_count": null,
   "metadata": {
    "execution": {
     "iopub.execute_input": "2022-03-25T05:03:05.802756Z",
     "iopub.status.busy": "2022-03-25T05:03:05.80214Z",
     "iopub.status.idle": "2022-03-25T05:03:05.808935Z",
     "shell.execute_reply": "2022-03-25T05:03:05.808226Z",
     "shell.execute_reply.started": "2022-03-25T05:03:05.802718Z"
    }
   },
   "outputs": [],
   "source": [
    "def remove_url(text):\n",
    "    pattern = re.compile(r'https?://\\S+|www\\.\\S+')\n",
    "    return pattern.sub(r'', text)"
   ]
  },
  {
   "cell_type": "code",
   "execution_count": null,
   "metadata": {
    "execution": {
     "iopub.execute_input": "2022-03-25T05:03:06.137931Z",
     "iopub.status.busy": "2022-03-25T05:03:06.137365Z",
     "iopub.status.idle": "2022-03-25T05:03:06.142158Z",
     "shell.execute_reply": "2022-03-25T05:03:06.141384Z",
     "shell.execute_reply.started": "2022-03-25T05:03:06.137892Z"
    }
   },
   "outputs": [],
   "source": [
    "text1 = 'Check out my notebook https://www.kaggle.com/campusx/notebook8223fc1abb'\n",
    "text2 = 'Check out my notebook http://www.kaggle.com/campusx/notebook8223fc1abb'\n",
    "text3 = 'Google search here www.google.com'\n",
    "text4 = 'For notebook click https://www.kaggle.com/campusx/notebook8223fc1abb to search check www.google.com'"
   ]
  },
  {
   "cell_type": "code",
   "execution_count": null,
   "metadata": {
    "execution": {
     "iopub.execute_input": "2022-03-25T05:03:06.35497Z",
     "iopub.status.busy": "2022-03-25T05:03:06.354714Z",
     "iopub.status.idle": "2022-03-25T05:03:06.360894Z",
     "shell.execute_reply": "2022-03-25T05:03:06.36013Z",
     "shell.execute_reply.started": "2022-03-25T05:03:06.35494Z"
    }
   },
   "outputs": [],
   "source": [
    "remove_url(text4)"
   ]
  },
  {
   "cell_type": "code",
   "execution_count": null,
   "metadata": {
    "execution": {
     "iopub.execute_input": "2022-03-25T05:03:06.54429Z",
     "iopub.status.busy": "2022-03-25T05:03:06.543492Z",
     "iopub.status.idle": "2022-03-25T05:03:06.550549Z",
     "shell.execute_reply": "2022-03-25T05:03:06.549857Z",
     "shell.execute_reply.started": "2022-03-25T05:03:06.544251Z"
    }
   },
   "outputs": [],
   "source": [
    "import string,time\n",
    "string.punctuation"
   ]
  },
  {
   "cell_type": "code",
   "execution_count": null,
   "metadata": {
    "execution": {
     "iopub.execute_input": "2022-03-25T05:03:06.757659Z",
     "iopub.status.busy": "2022-03-25T05:03:06.757407Z",
     "iopub.status.idle": "2022-03-25T05:03:06.761159Z",
     "shell.execute_reply": "2022-03-25T05:03:06.760407Z",
     "shell.execute_reply.started": "2022-03-25T05:03:06.757633Z"
    }
   },
   "outputs": [],
   "source": [
    "exclude = string.punctuation"
   ]
  },
  {
   "cell_type": "code",
   "execution_count": null,
   "metadata": {
    "execution": {
     "iopub.execute_input": "2022-03-25T05:03:06.987371Z",
     "iopub.status.busy": "2022-03-25T05:03:06.986835Z",
     "iopub.status.idle": "2022-03-25T05:03:06.991612Z",
     "shell.execute_reply": "2022-03-25T05:03:06.990793Z",
     "shell.execute_reply.started": "2022-03-25T05:03:06.98733Z"
    }
   },
   "outputs": [],
   "source": [
    "def remove_punc(text):\n",
    "    for char in exclude:\n",
    "        text = text.replace(char,'')\n",
    "    return text\n",
    "        "
   ]
  },
  {
   "cell_type": "code",
   "execution_count": null,
   "metadata": {
    "execution": {
     "iopub.execute_input": "2022-03-25T05:03:08.221785Z",
     "iopub.status.busy": "2022-03-25T05:03:08.221064Z",
     "iopub.status.idle": "2022-03-25T05:03:08.225578Z",
     "shell.execute_reply": "2022-03-25T05:03:08.224834Z",
     "shell.execute_reply.started": "2022-03-25T05:03:08.221747Z"
    }
   },
   "outputs": [],
   "source": [
    "text = 'string. With. Punctuation?'"
   ]
  },
  {
   "cell_type": "code",
   "execution_count": null,
   "metadata": {
    "execution": {
     "iopub.execute_input": "2022-03-25T05:03:08.429726Z",
     "iopub.status.busy": "2022-03-25T05:03:08.42915Z",
     "iopub.status.idle": "2022-03-25T05:03:08.437495Z",
     "shell.execute_reply": "2022-03-25T05:03:08.436676Z",
     "shell.execute_reply.started": "2022-03-25T05:03:08.429687Z"
    }
   },
   "outputs": [],
   "source": [
    "start = time.time()\n",
    "print(remove_punc(text))\n",
    "time1 = time.time() - start\n",
    "print(time1*50000)"
   ]
  },
  {
   "cell_type": "code",
   "execution_count": null,
   "metadata": {
    "execution": {
     "iopub.execute_input": "2022-03-25T05:03:08.605164Z",
     "iopub.status.busy": "2022-03-25T05:03:08.604826Z",
     "iopub.status.idle": "2022-03-25T05:03:08.610991Z",
     "shell.execute_reply": "2022-03-25T05:03:08.610244Z",
     "shell.execute_reply.started": "2022-03-25T05:03:08.605132Z"
    }
   },
   "outputs": [],
   "source": [
    "def remove_punc1(text):\n",
    "    return text.translate(str.maketrans('', '', exclude))"
   ]
  },
  {
   "cell_type": "code",
   "execution_count": null,
   "metadata": {
    "execution": {
     "iopub.execute_input": "2022-03-25T05:03:08.819175Z",
     "iopub.status.busy": "2022-03-25T05:03:08.818933Z",
     "iopub.status.idle": "2022-03-25T05:03:08.824361Z",
     "shell.execute_reply": "2022-03-25T05:03:08.823504Z",
     "shell.execute_reply.started": "2022-03-25T05:03:08.819147Z"
    }
   },
   "outputs": [],
   "source": [
    "start = time.time()\n",
    "print(remove_punc1(text))\n",
    "time2 = time.time() - start\n",
    "print(time2*50000)"
   ]
  },
  {
   "cell_type": "code",
   "execution_count": null,
   "metadata": {
    "execution": {
     "iopub.execute_input": "2022-03-25T05:03:09.477492Z",
     "iopub.status.busy": "2022-03-25T05:03:09.476912Z",
     "iopub.status.idle": "2022-03-25T05:03:09.483128Z",
     "shell.execute_reply": "2022-03-25T05:03:09.482405Z",
     "shell.execute_reply.started": "2022-03-25T05:03:09.477451Z"
    }
   },
   "outputs": [],
   "source": [
    "time1/time2"
   ]
  },
  {
   "cell_type": "code",
   "execution_count": null,
   "metadata": {
    "execution": {
     "iopub.execute_input": "2022-03-25T05:03:09.705694Z",
     "iopub.status.busy": "2022-03-25T05:03:09.705054Z",
     "iopub.status.idle": "2022-03-25T05:03:09.712413Z",
     "shell.execute_reply": "2022-03-25T05:03:09.71141Z",
     "shell.execute_reply.started": "2022-03-25T05:03:09.705659Z"
    }
   },
   "outputs": [],
   "source": [
    "df['review'][5]"
   ]
  },
  {
   "cell_type": "code",
   "execution_count": null,
   "metadata": {
    "execution": {
     "iopub.execute_input": "2022-03-25T05:03:09.969363Z",
     "iopub.status.busy": "2022-03-25T05:03:09.968723Z",
     "iopub.status.idle": "2022-03-25T05:03:09.979016Z",
     "shell.execute_reply": "2022-03-25T05:03:09.978321Z",
     "shell.execute_reply.started": "2022-03-25T05:03:09.969322Z"
    }
   },
   "outputs": [],
   "source": [
    "remove_punc1(df['review'][5])"
   ]
  },
  {
   "cell_type": "code",
   "execution_count": null,
   "metadata": {
    "execution": {
     "iopub.execute_input": "2022-03-25T05:03:10.20503Z",
     "iopub.status.busy": "2022-03-25T05:03:10.204772Z",
     "iopub.status.idle": "2022-03-25T05:03:10.266887Z",
     "shell.execute_reply": "2022-03-25T05:03:10.265678Z",
     "shell.execute_reply.started": "2022-03-25T05:03:10.204999Z"
    }
   },
   "outputs": [],
   "source": [
    "chat_words #simple sms slang by rishav verma "
   ]
  },
  {
   "cell_type": "code",
   "execution_count": null,
   "metadata": {
    "execution": {
     "iopub.execute_input": "2022-03-25T05:03:10.436443Z",
     "iopub.status.busy": "2022-03-25T05:03:10.436182Z",
     "iopub.status.idle": "2022-03-25T05:03:10.441822Z",
     "shell.execute_reply": "2022-03-25T05:03:10.441131Z",
     "shell.execute_reply.started": "2022-03-25T05:03:10.436415Z"
    }
   },
   "outputs": [],
   "source": [
    "def chat_conversion(text):\n",
    "    new_text = []\n",
    "    for w in text.split():\n",
    "        if w.upper() in chat_words:\n",
    "            new_text.append(chat_words[w.upper()])\n",
    "        else:\n",
    "            new_text.append(w)\n",
    "    return \" \".join(new_text)"
   ]
  },
  {
   "cell_type": "code",
   "execution_count": null,
   "metadata": {
    "execution": {
     "iopub.execute_input": "2022-03-25T05:03:10.656759Z",
     "iopub.status.busy": "2022-03-25T05:03:10.656149Z",
     "iopub.status.idle": "2022-03-25T05:03:10.677293Z",
     "shell.execute_reply": "2022-03-25T05:03:10.676231Z",
     "shell.execute_reply.started": "2022-03-25T05:03:10.656724Z"
    }
   },
   "outputs": [],
   "source": [
    "chat_conversion('IMHO he is the best')"
   ]
  },
  {
   "cell_type": "code",
   "execution_count": null,
   "metadata": {
    "execution": {
     "iopub.execute_input": "2022-03-25T05:03:10.940709Z",
     "iopub.status.busy": "2022-03-25T05:03:10.940468Z",
     "iopub.status.idle": "2022-03-25T05:03:10.961896Z",
     "shell.execute_reply": "2022-03-25T05:03:10.961094Z",
     "shell.execute_reply.started": "2022-03-25T05:03:10.94068Z"
    }
   },
   "outputs": [],
   "source": [
    "chat_conversion('FYI delhi is the capital of india')"
   ]
  },
  {
   "cell_type": "code",
   "execution_count": null,
   "metadata": {
    "execution": {
     "iopub.execute_input": "2022-03-25T05:03:11.162901Z",
     "iopub.status.busy": "2022-03-25T05:03:11.162399Z",
     "iopub.status.idle": "2022-03-25T05:03:12.793008Z",
     "shell.execute_reply": "2022-03-25T05:03:12.792251Z",
     "shell.execute_reply.started": "2022-03-25T05:03:11.162863Z"
    }
   },
   "outputs": [],
   "source": [
    "from textblob import TextBlob"
   ]
  },
  {
   "cell_type": "code",
   "execution_count": null,
   "metadata": {
    "execution": {
     "iopub.execute_input": "2022-03-25T05:03:12.794756Z",
     "iopub.status.busy": "2022-03-25T05:03:12.794501Z",
     "iopub.status.idle": "2022-03-25T05:03:12.868321Z",
     "shell.execute_reply": "2022-03-25T05:03:12.867625Z",
     "shell.execute_reply.started": "2022-03-25T05:03:12.794721Z"
    }
   },
   "outputs": [],
   "source": [
    "incorrect_text = 'ceertain conditionas duriing seveal ggenerations aree moodified in the saame maner.'\n",
    "\n",
    "textBlb = TextBlob(incorrect_text)\n",
    "\n",
    "textBlb.correct().string"
   ]
  },
  {
   "cell_type": "code",
   "execution_count": null,
   "metadata": {
    "execution": {
     "iopub.execute_input": "2022-03-25T05:03:12.869631Z",
     "iopub.status.busy": "2022-03-25T05:03:12.869397Z",
     "iopub.status.idle": "2022-03-25T05:03:12.875683Z",
     "shell.execute_reply": "2022-03-25T05:03:12.87486Z",
     "shell.execute_reply.started": "2022-03-25T05:03:12.869595Z"
    }
   },
   "outputs": [],
   "source": [
    "from nltk.corpus import stopwords"
   ]
  },
  {
   "cell_type": "code",
   "execution_count": null,
   "metadata": {
    "execution": {
     "iopub.execute_input": "2022-03-25T05:03:12.924495Z",
     "iopub.status.busy": "2022-03-25T05:03:12.924295Z",
     "iopub.status.idle": "2022-03-25T05:03:12.94054Z",
     "shell.execute_reply": "2022-03-25T05:03:12.939896Z",
     "shell.execute_reply.started": "2022-03-25T05:03:12.92447Z"
    }
   },
   "outputs": [],
   "source": [
    "stopwords.words('spanish')"
   ]
  },
  {
   "cell_type": "code",
   "execution_count": null,
   "metadata": {
    "execution": {
     "iopub.execute_input": "2022-03-25T05:03:14.387253Z",
     "iopub.status.busy": "2022-03-25T05:03:14.386287Z",
     "iopub.status.idle": "2022-03-25T05:03:14.392784Z",
     "shell.execute_reply": "2022-03-25T05:03:14.391987Z",
     "shell.execute_reply.started": "2022-03-25T05:03:14.387184Z"
    }
   },
   "outputs": [],
   "source": [
    "def remove_stopwords(text):\n",
    "    new_text = []\n",
    "    \n",
    "    for word in text.split():\n",
    "        if word in stopwords.words('english'):\n",
    "            new_text.append('')\n",
    "        else:\n",
    "            new_text.append(word)\n",
    "    x = new_text[:]\n",
    "    new_text.clear()\n",
    "    return \" \".join(x)"
   ]
  },
  {
   "cell_type": "code",
   "execution_count": null,
   "metadata": {
    "execution": {
     "iopub.execute_input": "2022-03-25T05:03:14.620955Z",
     "iopub.status.busy": "2022-03-25T05:03:14.620719Z",
     "iopub.status.idle": "2022-03-25T05:03:14.633546Z",
     "shell.execute_reply": "2022-03-25T05:03:14.632797Z",
     "shell.execute_reply.started": "2022-03-25T05:03:14.620927Z"
    }
   },
   "outputs": [],
   "source": [
    "remove_stopwords('probably my all-time favorite movie, a story of selflessness, sacrifice and dedication to a noble cause, but it\\'s not preachy or boring. it just never gets old, despite my having seen it some 15 or more times')"
   ]
  },
  {
   "cell_type": "code",
   "execution_count": null,
   "metadata": {
    "execution": {
     "iopub.execute_input": "2022-03-25T05:03:14.935952Z",
     "iopub.status.busy": "2022-03-25T05:03:14.935518Z",
     "iopub.status.idle": "2022-03-25T05:03:14.944328Z",
     "shell.execute_reply": "2022-03-25T05:03:14.943628Z",
     "shell.execute_reply.started": "2022-03-25T05:03:14.935917Z"
    }
   },
   "outputs": [],
   "source": [
    "df.head()"
   ]
  },
  {
   "cell_type": "code",
   "execution_count": null,
   "metadata": {
    "execution": {
     "iopub.execute_input": "2022-03-25T05:03:15.725201Z",
     "iopub.status.busy": "2022-03-25T05:03:15.72471Z",
     "iopub.status.idle": "2022-03-25T05:17:29.365466Z",
     "shell.execute_reply": "2022-03-25T05:17:29.363724Z",
     "shell.execute_reply.started": "2022-03-25T05:03:15.725146Z"
    }
   },
   "outputs": [],
   "source": [
    "df['review'].apply(remove_stopwords)"
   ]
  },
  {
   "cell_type": "code",
   "execution_count": null,
   "metadata": {
    "execution": {
     "iopub.status.busy": "2022-03-25T05:17:29.366492Z",
     "iopub.status.idle": "2022-03-25T05:17:29.367114Z",
     "shell.execute_reply": "2022-03-25T05:17:29.366892Z",
     "shell.execute_reply.started": "2022-03-25T05:17:29.366865Z"
    }
   },
   "outputs": [],
   "source": [
    "df.head() "
   ]
  },
  {
   "cell_type": "code",
   "execution_count": null,
   "metadata": {
    "execution": {
     "iopub.status.busy": "2022-03-25T05:17:29.368801Z",
     "iopub.status.idle": "2022-03-25T05:17:29.369688Z",
     "shell.execute_reply": "2022-03-25T05:17:29.369469Z",
     "shell.execute_reply.started": "2022-03-25T05:17:29.369444Z"
    }
   },
   "outputs": [],
   "source": [
    "import re\n",
    "def remove_emoji(text):\n",
    "    emoji_pattern = re.compile(\"[\"\n",
    "                           u\"\\U0001F600-\\U0001F64F\"  # emoticons\n",
    "                           u\"\\U0001F300-\\U0001F5FF\"  # symbols & pictographs\n",
    "                           u\"\\U0001F680-\\U0001F6FF\"  # transport & map symbols\n",
    "                           u\"\\U0001F1E0-\\U0001F1FF\"  # flags (iOS)\n",
    "                           u\"\\U00002702-\\U000027B0\"\n",
    "                           u\"\\U000024C2-\\U0001F251\"\n",
    "                           \"]+\", flags=re.UNICODE)\n",
    "    return emoji_pattern.sub(r'', text)"
   ]
  },
  {
   "cell_type": "code",
   "execution_count": null,
   "metadata": {
    "execution": {
     "iopub.status.busy": "2022-03-25T05:17:29.370826Z",
     "iopub.status.idle": "2022-03-25T05:17:29.371699Z",
     "shell.execute_reply": "2022-03-25T05:17:29.371478Z",
     "shell.execute_reply.started": "2022-03-25T05:17:29.371453Z"
    }
   },
   "outputs": [],
   "source": [
    "remove_emoji(\"Loved the movie. It was 😘😘\")"
   ]
  },
  {
   "cell_type": "code",
   "execution_count": null,
   "metadata": {
    "execution": {
     "iopub.status.busy": "2022-03-25T05:17:29.37281Z",
     "iopub.status.idle": "2022-03-25T05:17:29.37368Z",
     "shell.execute_reply": "2022-03-25T05:17:29.373459Z",
     "shell.execute_reply.started": "2022-03-25T05:17:29.373434Z"
    }
   },
   "outputs": [],
   "source": [
    "remove_emoji(\"Lmao 😂😂\")"
   ]
  },
  {
   "cell_type": "code",
   "execution_count": null,
   "metadata": {
    "execution": {
     "iopub.execute_input": "2022-03-25T05:17:36.660111Z",
     "iopub.status.busy": "2022-03-25T05:17:36.659297Z",
     "iopub.status.idle": "2022-03-25T05:17:36.898161Z",
     "shell.execute_reply": "2022-03-25T05:17:36.897352Z",
     "shell.execute_reply.started": "2022-03-25T05:17:36.66006Z"
    }
   },
   "outputs": [],
   "source": [
    "import emoji\n",
    "print(emoji.demojize('Python is 🔥'))"
   ]
  },
  {
   "cell_type": "code",
   "execution_count": null,
   "metadata": {
    "execution": {
     "iopub.execute_input": "2022-03-25T05:17:42.465412Z",
     "iopub.status.busy": "2022-03-25T05:17:42.464722Z",
     "iopub.status.idle": "2022-03-25T05:17:42.470723Z",
     "shell.execute_reply": "2022-03-25T05:17:42.469701Z",
     "shell.execute_reply.started": "2022-03-25T05:17:42.465374Z"
    }
   },
   "outputs": [],
   "source": [
    "print(emoji.demojize('Loved the movie. It was 😘'))"
   ]
  },
  {
   "cell_type": "markdown",
   "metadata": {},
   "source": [
    "### 1. Using the split function"
   ]
  },
  {
   "cell_type": "code",
   "execution_count": null,
   "metadata": {
    "execution": {
     "iopub.execute_input": "2022-03-25T05:17:43.962337Z",
     "iopub.status.busy": "2022-03-25T05:17:43.961735Z",
     "iopub.status.idle": "2022-03-25T05:17:43.968349Z",
     "shell.execute_reply": "2022-03-25T05:17:43.967602Z",
     "shell.execute_reply.started": "2022-03-25T05:17:43.962298Z"
    }
   },
   "outputs": [],
   "source": [
    "# word tokenization\n",
    "sent1 = 'I am going to delhi'\n",
    "sent1.split()"
   ]
  },
  {
   "cell_type": "code",
   "execution_count": null,
   "metadata": {
    "execution": {
     "iopub.execute_input": "2022-03-25T05:17:44.789026Z",
     "iopub.status.busy": "2022-03-25T05:17:44.788723Z",
     "iopub.status.idle": "2022-03-25T05:17:44.796117Z",
     "shell.execute_reply": "2022-03-25T05:17:44.795321Z",
     "shell.execute_reply.started": "2022-03-25T05:17:44.78899Z"
    }
   },
   "outputs": [],
   "source": [
    "# sentence tokenization\n",
    "sent2 = 'I am going to delhi. I will stay there for 3 days. Let\\'s hope the trip to be great'\n",
    "sent2.split('.')"
   ]
  },
  {
   "cell_type": "code",
   "execution_count": null,
   "metadata": {
    "execution": {
     "iopub.execute_input": "2022-03-25T05:17:48.719422Z",
     "iopub.status.busy": "2022-03-25T05:17:48.718682Z",
     "iopub.status.idle": "2022-03-25T05:17:48.724413Z",
     "shell.execute_reply": "2022-03-25T05:17:48.723723Z",
     "shell.execute_reply.started": "2022-03-25T05:17:48.719383Z"
    }
   },
   "outputs": [],
   "source": [
    "# Problems with split function\n",
    "sent3 = 'I am going to delhi!'\n",
    "sent3.split()"
   ]
  },
  {
   "cell_type": "code",
   "execution_count": null,
   "metadata": {
    "execution": {
     "iopub.execute_input": "2022-03-25T05:17:48.943074Z",
     "iopub.status.busy": "2022-03-25T05:17:48.942734Z",
     "iopub.status.idle": "2022-03-25T05:17:48.948213Z",
     "shell.execute_reply": "2022-03-25T05:17:48.947548Z",
     "shell.execute_reply.started": "2022-03-25T05:17:48.94304Z"
    }
   },
   "outputs": [],
   "source": [
    "sent4 = 'Where do think I should go? I have 3 day holiday'\n",
    "sent4.split('.')"
   ]
  },
  {
   "cell_type": "markdown",
   "metadata": {},
   "source": [
    "### 2. Regular Expression"
   ]
  },
  {
   "cell_type": "code",
   "execution_count": null,
   "metadata": {
    "execution": {
     "iopub.execute_input": "2022-03-25T05:17:50.941876Z",
     "iopub.status.busy": "2022-03-25T05:17:50.941287Z",
     "iopub.status.idle": "2022-03-25T05:17:50.952945Z",
     "shell.execute_reply": "2022-03-25T05:17:50.952313Z",
     "shell.execute_reply.started": "2022-03-25T05:17:50.941835Z"
    }
   },
   "outputs": [],
   "source": [
    "import re\n",
    "sent3 = 'I am going to delhi!'\n",
    "tokens = re.findall(\"[\\w']+\", sent3)\n",
    "tokens"
   ]
  },
  {
   "cell_type": "code",
   "execution_count": null,
   "metadata": {
    "execution": {
     "iopub.execute_input": "2022-03-25T05:18:49.455181Z",
     "iopub.status.busy": "2022-03-25T05:18:49.454422Z",
     "iopub.status.idle": "2022-03-25T05:18:49.46457Z",
     "shell.execute_reply": "2022-03-25T05:18:49.463778Z",
     "shell.execute_reply.started": "2022-03-25T05:18:49.455141Z"
    }
   },
   "outputs": [],
   "source": [
    "\n",
    "text = \"\"\"Lorem Ipsum is simply dummy text of the printing and typesetting industry? \n",
    "Lorem Ipsum has been the industry's standard dummy text ever since the 1500s, \n",
    "when an unknown printer took a galley of type and scrambled it to make a type specimen book.\"\"\"\n",
    "sentences = re.compile('[.!?] ').split(text)\n",
    "sentences"
   ]
  },
  {
   "cell_type": "markdown",
   "metadata": {},
   "source": [
    "### 3. NLTK"
   ]
  },
  {
   "cell_type": "code",
   "execution_count": null,
   "metadata": {
    "execution": {
     "iopub.execute_input": "2022-03-25T05:19:11.864131Z",
     "iopub.status.busy": "2022-03-25T05:19:11.863304Z",
     "iopub.status.idle": "2022-03-25T05:19:11.867451Z",
     "shell.execute_reply": "2022-03-25T05:19:11.866724Z",
     "shell.execute_reply.started": "2022-03-25T05:19:11.864089Z"
    }
   },
   "outputs": [],
   "source": [
    "from nltk.tokenize import word_tokenize,sent_tokenize"
   ]
  },
  {
   "cell_type": "code",
   "execution_count": null,
   "metadata": {
    "execution": {
     "iopub.execute_input": "2022-03-25T05:19:12.414094Z",
     "iopub.status.busy": "2022-03-25T05:19:12.413305Z",
     "iopub.status.idle": "2022-03-25T05:19:12.433657Z",
     "shell.execute_reply": "2022-03-25T05:19:12.43298Z",
     "shell.execute_reply.started": "2022-03-25T05:19:12.414034Z"
    }
   },
   "outputs": [],
   "source": [
    "sent1 = 'I am going to visit delhi!'\n",
    "word_tokenize(sent1)"
   ]
  },
  {
   "cell_type": "code",
   "execution_count": null,
   "metadata": {
    "execution": {
     "iopub.execute_input": "2022-03-25T05:20:31.820521Z",
     "iopub.status.busy": "2022-03-25T05:20:31.820161Z",
     "iopub.status.idle": "2022-03-25T05:20:31.827725Z",
     "shell.execute_reply": "2022-03-25T05:20:31.826854Z",
     "shell.execute_reply.started": "2022-03-25T05:20:31.820482Z"
    }
   },
   "outputs": [],
   "source": [
    "text = \"\"\"Lorem Ipsum is simply dummy text of the printing and typesetting industry? \n",
    "Lorem Ipsum has been the industry's standard dummy text ever since the 1500s, \n",
    "when an unknown printer took a galley of type and scrambled it to make a type specimen book.\"\"\"\n",
    "\n",
    "sent_tokenize(text)"
   ]
  },
  {
   "cell_type": "code",
   "execution_count": null,
   "metadata": {
    "execution": {
     "iopub.execute_input": "2022-03-25T05:20:32.829019Z",
     "iopub.status.busy": "2022-03-25T05:20:32.828549Z",
     "iopub.status.idle": "2022-03-25T05:20:32.835137Z",
     "shell.execute_reply": "2022-03-25T05:20:32.834348Z",
     "shell.execute_reply.started": "2022-03-25T05:20:32.828981Z"
    }
   },
   "outputs": [],
   "source": [
    "sent5 = 'I have a Ph.D in A.I'\n",
    "sent6 = \"We're here to help! mail us at nks@gmail.com\"\n",
    "sent7 = 'A 5km ride cost $10.50'\n",
    "\n",
    "word_tokenize(sent5)"
   ]
  },
  {
   "cell_type": "code",
   "execution_count": null,
   "metadata": {
    "execution": {
     "iopub.execute_input": "2022-03-25T05:20:33.075703Z",
     "iopub.status.busy": "2022-03-25T05:20:33.075118Z",
     "iopub.status.idle": "2022-03-25T05:20:33.081331Z",
     "shell.execute_reply": "2022-03-25T05:20:33.080623Z",
     "shell.execute_reply.started": "2022-03-25T05:20:33.075659Z"
    }
   },
   "outputs": [],
   "source": [
    "word_tokenize(sent6)"
   ]
  },
  {
   "cell_type": "code",
   "execution_count": null,
   "metadata": {
    "execution": {
     "iopub.execute_input": "2022-03-25T05:21:01.99253Z",
     "iopub.status.busy": "2022-03-25T05:21:01.991768Z",
     "iopub.status.idle": "2022-03-25T05:21:02.000869Z",
     "shell.execute_reply": "2022-03-25T05:21:01.999884Z",
     "shell.execute_reply.started": "2022-03-25T05:21:01.992478Z"
    }
   },
   "outputs": [],
   "source": [
    "word_tokenize(sent7)"
   ]
  },
  {
   "cell_type": "markdown",
   "metadata": {},
   "source": [
    "### 4. Spacy"
   ]
  },
  {
   "cell_type": "code",
   "execution_count": null,
   "metadata": {
    "execution": {
     "iopub.execute_input": "2022-03-25T05:21:03.210763Z",
     "iopub.status.busy": "2022-03-25T05:21:03.210307Z",
     "iopub.status.idle": "2022-03-25T05:21:13.195176Z",
     "shell.execute_reply": "2022-03-25T05:21:13.194406Z",
     "shell.execute_reply.started": "2022-03-25T05:21:03.210713Z"
    }
   },
   "outputs": [],
   "source": [
    "import spacy\n",
    "nlp = spacy.load('en_core_web_sm')"
   ]
  },
  {
   "cell_type": "code",
   "execution_count": null,
   "metadata": {
    "execution": {
     "iopub.execute_input": "2022-03-25T05:21:55.204788Z",
     "iopub.status.busy": "2022-03-25T05:21:55.204493Z",
     "iopub.status.idle": "2022-03-25T05:21:55.24596Z",
     "shell.execute_reply": "2022-03-25T05:21:55.245184Z",
     "shell.execute_reply.started": "2022-03-25T05:21:55.204756Z"
    }
   },
   "outputs": [],
   "source": [
    "doc1 = nlp(sent5)\n",
    "doc2 = nlp(sent6)\n",
    "doc3 = nlp(sent7)\n",
    "doc4 = nlp(sent1)"
   ]
  },
  {
   "cell_type": "code",
   "execution_count": null,
   "metadata": {
    "execution": {
     "iopub.execute_input": "2022-03-25T05:22:58.555048Z",
     "iopub.status.busy": "2022-03-25T05:22:58.554479Z",
     "iopub.status.idle": "2022-03-25T05:22:58.560286Z",
     "shell.execute_reply": "2022-03-25T05:22:58.559395Z",
     "shell.execute_reply.started": "2022-03-25T05:22:58.555003Z"
    }
   },
   "outputs": [],
   "source": [
    "print(doc1, doc2,doc3,doc4)"
   ]
  },
  {
   "cell_type": "code",
   "execution_count": null,
   "metadata": {
    "execution": {
     "iopub.execute_input": "2022-03-25T05:22:59.281826Z",
     "iopub.status.busy": "2022-03-25T05:22:59.280994Z",
     "iopub.status.idle": "2022-03-25T05:22:59.288581Z",
     "shell.execute_reply": "2022-03-25T05:22:59.287302Z",
     "shell.execute_reply.started": "2022-03-25T05:22:59.281777Z"
    }
   },
   "outputs": [],
   "source": [
    "for token in doc4:\n",
    "    print(token)"
   ]
  },
  {
   "cell_type": "code",
   "execution_count": null,
   "metadata": {},
   "outputs": [],
   "source": []
  },
  {
   "cell_type": "code",
   "execution_count": null,
   "metadata": {},
   "outputs": [],
   "source": []
  },
  {
   "cell_type": "code",
   "execution_count": null,
   "metadata": {},
   "outputs": [],
   "source": []
  },
  {
   "cell_type": "code",
   "execution_count": null,
   "metadata": {
    "execution": {
     "iopub.execute_input": "2022-03-25T05:23:18.897656Z",
     "iopub.status.busy": "2022-03-25T05:23:18.897349Z",
     "iopub.status.idle": "2022-03-25T05:23:18.902015Z",
     "shell.execute_reply": "2022-03-25T05:23:18.900963Z",
     "shell.execute_reply.started": "2022-03-25T05:23:18.897624Z"
    }
   },
   "outputs": [],
   "source": [
    "from nltk.stem.porter import PorterStemmer"
   ]
  },
  {
   "cell_type": "code",
   "execution_count": null,
   "metadata": {
    "execution": {
     "iopub.execute_input": "2022-03-25T05:23:19.320381Z",
     "iopub.status.busy": "2022-03-25T05:23:19.319707Z",
     "iopub.status.idle": "2022-03-25T05:23:19.324455Z",
     "shell.execute_reply": "2022-03-25T05:23:19.323585Z",
     "shell.execute_reply.started": "2022-03-25T05:23:19.320343Z"
    }
   },
   "outputs": [],
   "source": [
    "ps = PorterStemmer()\n",
    "def stem_words(text):\n",
    "    return \" \".join([ps.stem(word) for word in text.split()])"
   ]
  },
  {
   "cell_type": "code",
   "execution_count": null,
   "metadata": {
    "execution": {
     "iopub.execute_input": "2022-03-25T05:41:33.131927Z",
     "iopub.status.busy": "2022-03-25T05:41:33.131079Z",
     "iopub.status.idle": "2022-03-25T05:41:33.140483Z",
     "shell.execute_reply": "2022-03-25T05:41:33.139438Z",
     "shell.execute_reply.started": "2022-03-25T05:41:33.131885Z"
    }
   },
   "outputs": [],
   "source": [
    "sample = \"walk walks walking walked  programming  programe\"\n",
    "stem_words(sample)"
   ]
  },
  {
   "cell_type": "code",
   "execution_count": null,
   "metadata": {
    "execution": {
     "iopub.execute_input": "2022-03-25T05:37:45.89464Z",
     "iopub.status.busy": "2022-03-25T05:37:45.894089Z",
     "iopub.status.idle": "2022-03-25T05:37:45.900023Z",
     "shell.execute_reply": "2022-03-25T05:37:45.899261Z",
     "shell.execute_reply.started": "2022-03-25T05:37:45.894598Z"
    }
   },
   "outputs": [],
   "source": [
    "text = 'probably my alltime favorite movie a story of selflessness sacrifice and dedication to a noble cause but its not preachy or boring it just never gets old despite my having seen it some 15 or more times in the last 25 years paul lukas performance brings tears to my eyes and bette davis in one of her very few truly sympathetic roles is a delight the kids are as grandma says more like dressedup midgets than children but that only makes them more fun to watch and the mothers slow awakening to whats happening in the world and under her own roof is believable and startling if i had a dozen thumbs theyd all be up for this movie'\n",
    "print(text)"
   ]
  },
  {
   "cell_type": "code",
   "execution_count": null,
   "metadata": {
    "execution": {
     "iopub.execute_input": "2022-03-25T05:37:50.941384Z",
     "iopub.status.busy": "2022-03-25T05:37:50.940812Z",
     "iopub.status.idle": "2022-03-25T05:37:50.948962Z",
     "shell.execute_reply": "2022-03-25T05:37:50.948293Z",
     "shell.execute_reply.started": "2022-03-25T05:37:50.941344Z"
    }
   },
   "outputs": [],
   "source": [
    "stem_words(text)"
   ]
  },
  {
   "cell_type": "code",
   "execution_count": null,
   "metadata": {
    "execution": {
     "iopub.execute_input": "2022-03-25T05:38:02.569025Z",
     "iopub.status.busy": "2022-03-25T05:38:02.568766Z",
     "iopub.status.idle": "2022-03-25T05:38:04.475508Z",
     "shell.execute_reply": "2022-03-25T05:38:04.474794Z",
     "shell.execute_reply.started": "2022-03-25T05:38:02.568994Z"
    }
   },
   "outputs": [],
   "source": [
    "import nltk\n",
    "from nltk.stem import WordNetLemmatizer\n",
    "wordnet_lemmatizer = WordNetLemmatizer()\n",
    "\n",
    "sentence = \"He to running and eating at same time. friendships He has bad habit of swimming after playing long hours in the Sun.\"\n",
    "punctuations=\"?:!.,;\"\n",
    "sentence_words = nltk.word_tokenize(sentence)\n",
    "for word in sentence_words:\n",
    "    if word in punctuations:\n",
    "        sentence_words.remove(word)\n",
    "\n",
    "sentence_words\n",
    "print(\"{0:20}{1:20}\".format(\"Word\",\"Lemma\"))\n",
    "for word in sentence_words:\n",
    "    print (\"{0:20}{1:20}\".format(word,wordnet_lemmatizer.lemmatize(word,pos='v')))"
   ]
  },
  {
   "cell_type": "code",
   "execution_count": null,
   "metadata": {},
   "outputs": [],
   "source": []
  }
 ],
 "metadata": {
  "kernelspec": {
   "display_name": "Python 3 (ipykernel)",
   "language": "python",
   "name": "python3"
  },
  "language_info": {
   "codemirror_mode": {
    "name": "ipython",
    "version": 3
   },
   "file_extension": ".py",
   "mimetype": "text/x-python",
   "name": "python",
   "nbconvert_exporter": "python",
   "pygments_lexer": "ipython3",
   "version": "3.10.4"
  }
 },
 "nbformat": 4,
 "nbformat_minor": 4
}

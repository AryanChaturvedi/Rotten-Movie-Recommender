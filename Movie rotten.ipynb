{
 "cells": [
  {
   "cell_type": "code",
   "execution_count": 1,
   "id": "72e76e33",
   "metadata": {},
   "outputs": [],
   "source": [
    "import numpy as np\n",
    "import pandas as pd\n"
   ]
  },
  {
   "cell_type": "code",
   "execution_count": 2,
   "id": "756e5fab",
   "metadata": {},
   "outputs": [
    {
     "data": {
      "text/html": [
       "<div>\n",
       "<style scoped>\n",
       "    .dataframe tbody tr th:only-of-type {\n",
       "        vertical-align: middle;\n",
       "    }\n",
       "\n",
       "    .dataframe tbody tr th {\n",
       "        vertical-align: top;\n",
       "    }\n",
       "\n",
       "    .dataframe thead th {\n",
       "        text-align: right;\n",
       "    }\n",
       "</style>\n",
       "<table border=\"1\" class=\"dataframe\">\n",
       "  <thead>\n",
       "    <tr style=\"text-align: right;\">\n",
       "      <th></th>\n",
       "      <th>Movie Title</th>\n",
       "      <th>Year</th>\n",
       "      <th>Score</th>\n",
       "      <th>Director</th>\n",
       "      <th>Synopsis</th>\n",
       "      <th>Cast</th>\n",
       "      <th>Genre</th>\n",
       "      <th>Critic_Consensus</th>\n",
       "      <th>Platform</th>\n",
       "    </tr>\n",
       "  </thead>\n",
       "  <tbody>\n",
       "    <tr>\n",
       "      <th>0</th>\n",
       "      <td>The Hitchhiker's Guide to the Galaxy</td>\n",
       "      <td>2005</td>\n",
       "      <td>60</td>\n",
       "      <td>Garth Jennings</td>\n",
       "      <td>Arthur Dent (Martin Freeman) is trying to pre...</td>\n",
       "      <td>Martin Freeman, Mos Def, Sam Rockwell, Zooey D...</td>\n",
       "      <td>scifi</td>\n",
       "      <td>A frantic and occasional funny adaptation of D...</td>\n",
       "      <td>Public</td>\n",
       "    </tr>\n",
       "    <tr>\n",
       "      <th>1</th>\n",
       "      <td>The Endless</td>\n",
       "      <td>2017</td>\n",
       "      <td>92</td>\n",
       "      <td>Aaron Moorhead, Justin Benson</td>\n",
       "      <td>Two brothers receive a cryptic video message ...</td>\n",
       "      <td>Aaron Moorhead, Justin Benson, Callie Hernande...</td>\n",
       "      <td>scifi</td>\n",
       "      <td>The Endless benefits from its grounded approac...</td>\n",
       "      <td>Public</td>\n",
       "    </tr>\n",
       "    <tr>\n",
       "      <th>2</th>\n",
       "      <td>Timecrimes</td>\n",
       "      <td>2007</td>\n",
       "      <td>90</td>\n",
       "      <td>Nacho Vigalondo</td>\n",
       "      <td>Nacho Vigalondo's time-travel thriller opens ...</td>\n",
       "      <td>Karra Elejalde, Candela Fernández, Bárbara Goe...</td>\n",
       "      <td>scifi</td>\n",
       "      <td>Timecrimes is a low-budget thriller that's wel...</td>\n",
       "      <td>Public</td>\n",
       "    </tr>\n",
       "    <tr>\n",
       "      <th>3</th>\n",
       "      <td>Ad Astra</td>\n",
       "      <td>2019</td>\n",
       "      <td>83</td>\n",
       "      <td>James Gray</td>\n",
       "      <td>Thirty years ago, Clifford McBride led a voya...</td>\n",
       "      <td>Brad Pitt, Tommy Lee Jones, Ruth Negga, Donald...</td>\n",
       "      <td>scifi</td>\n",
       "      <td>Ad Astra takes a visually thrilling journey th...</td>\n",
       "      <td>Public</td>\n",
       "    </tr>\n",
       "    <tr>\n",
       "      <th>4</th>\n",
       "      <td>Westworld</td>\n",
       "      <td>1973</td>\n",
       "      <td>85</td>\n",
       "      <td>Michael Crichton</td>\n",
       "      <td>Westworld is a futuristic theme park where pa...</td>\n",
       "      <td>Yul Brynner, Richard Benjamin, James Brolin, N...</td>\n",
       "      <td>scifi</td>\n",
       "      <td>Yul Brynner gives a memorable performance as a...</td>\n",
       "      <td>Public</td>\n",
       "    </tr>\n",
       "  </tbody>\n",
       "</table>\n",
       "</div>"
      ],
      "text/plain": [
       "                            Movie Title  Year  Score  \\\n",
       "0  The Hitchhiker's Guide to the Galaxy  2005     60   \n",
       "1                           The Endless  2017     92   \n",
       "2                            Timecrimes  2007     90   \n",
       "3                              Ad Astra  2019     83   \n",
       "4                             Westworld  1973     85   \n",
       "\n",
       "                        Director  \\\n",
       "0                 Garth Jennings   \n",
       "1  Aaron Moorhead, Justin Benson   \n",
       "2                Nacho Vigalondo   \n",
       "3                     James Gray   \n",
       "4               Michael Crichton   \n",
       "\n",
       "                                            Synopsis  \\\n",
       "0   Arthur Dent (Martin Freeman) is trying to pre...   \n",
       "1   Two brothers receive a cryptic video message ...   \n",
       "2   Nacho Vigalondo's time-travel thriller opens ...   \n",
       "3   Thirty years ago, Clifford McBride led a voya...   \n",
       "4   Westworld is a futuristic theme park where pa...   \n",
       "\n",
       "                                                Cast  Genre  \\\n",
       "0  Martin Freeman, Mos Def, Sam Rockwell, Zooey D...  scifi   \n",
       "1  Aaron Moorhead, Justin Benson, Callie Hernande...  scifi   \n",
       "2  Karra Elejalde, Candela Fernández, Bárbara Goe...  scifi   \n",
       "3  Brad Pitt, Tommy Lee Jones, Ruth Negga, Donald...  scifi   \n",
       "4  Yul Brynner, Richard Benjamin, James Brolin, N...  scifi   \n",
       "\n",
       "                                    Critic_Consensus Platform  \n",
       "0  A frantic and occasional funny adaptation of D...   Public  \n",
       "1  The Endless benefits from its grounded approac...   Public  \n",
       "2  Timecrimes is a low-budget thriller that's wel...   Public  \n",
       "3  Ad Astra takes a visually thrilling journey th...   Public  \n",
       "4  Yul Brynner gives a memorable performance as a...   Public  "
      ]
     },
     "execution_count": 2,
     "metadata": {},
     "output_type": "execute_result"
    }
   ],
   "source": [
    "movies= pd.read_csv(\"movies_r.csv\")\n",
    "movies.head()"
   ]
  },
  {
   "cell_type": "code",
   "execution_count": 3,
   "id": "5b8c0290",
   "metadata": {},
   "outputs": [
    {
     "data": {
      "text/plain": [
       "(2222, 9)"
      ]
     },
     "execution_count": 3,
     "metadata": {},
     "output_type": "execute_result"
    }
   ],
   "source": [
    "movies.shape"
   ]
  },
  {
   "cell_type": "code",
   "execution_count": 4,
   "id": "7d5ff269",
   "metadata": {},
   "outputs": [
    {
     "data": {
      "text/html": [
       "<div>\n",
       "<style scoped>\n",
       "    .dataframe tbody tr th:only-of-type {\n",
       "        vertical-align: middle;\n",
       "    }\n",
       "\n",
       "    .dataframe tbody tr th {\n",
       "        vertical-align: top;\n",
       "    }\n",
       "\n",
       "    .dataframe thead th {\n",
       "        text-align: right;\n",
       "    }\n",
       "</style>\n",
       "<table border=\"1\" class=\"dataframe\">\n",
       "  <thead>\n",
       "    <tr style=\"text-align: right;\">\n",
       "      <th></th>\n",
       "      <th>Movie Title</th>\n",
       "      <th>Year</th>\n",
       "      <th>Score</th>\n",
       "      <th>Director</th>\n",
       "      <th>Synopsis</th>\n",
       "      <th>Cast</th>\n",
       "      <th>Genre</th>\n",
       "      <th>Critic_Consensus</th>\n",
       "      <th>Platform</th>\n",
       "    </tr>\n",
       "  </thead>\n",
       "  <tbody>\n",
       "    <tr>\n",
       "      <th>0</th>\n",
       "      <td>The Hitchhiker's Guide to the Galaxy</td>\n",
       "      <td>2005</td>\n",
       "      <td>60</td>\n",
       "      <td>Garth Jennings</td>\n",
       "      <td>Arthur Dent (Martin Freeman) is trying to pre...</td>\n",
       "      <td>Martin Freeman, Mos Def, Sam Rockwell, Zooey D...</td>\n",
       "      <td>scifi</td>\n",
       "      <td>A frantic and occasional funny adaptation of D...</td>\n",
       "      <td>Public</td>\n",
       "    </tr>\n",
       "    <tr>\n",
       "      <th>1</th>\n",
       "      <td>The Endless</td>\n",
       "      <td>2017</td>\n",
       "      <td>92</td>\n",
       "      <td>Aaron Moorhead, Justin Benson</td>\n",
       "      <td>Two brothers receive a cryptic video message ...</td>\n",
       "      <td>Aaron Moorhead, Justin Benson, Callie Hernande...</td>\n",
       "      <td>scifi</td>\n",
       "      <td>The Endless benefits from its grounded approac...</td>\n",
       "      <td>Public</td>\n",
       "    </tr>\n",
       "    <tr>\n",
       "      <th>2</th>\n",
       "      <td>Timecrimes</td>\n",
       "      <td>2007</td>\n",
       "      <td>90</td>\n",
       "      <td>Nacho Vigalondo</td>\n",
       "      <td>Nacho Vigalondo's time-travel thriller opens ...</td>\n",
       "      <td>Karra Elejalde, Candela Fernández, Bárbara Goe...</td>\n",
       "      <td>scifi</td>\n",
       "      <td>Timecrimes is a low-budget thriller that's wel...</td>\n",
       "      <td>Public</td>\n",
       "    </tr>\n",
       "    <tr>\n",
       "      <th>3</th>\n",
       "      <td>Ad Astra</td>\n",
       "      <td>2019</td>\n",
       "      <td>83</td>\n",
       "      <td>James Gray</td>\n",
       "      <td>Thirty years ago, Clifford McBride led a voya...</td>\n",
       "      <td>Brad Pitt, Tommy Lee Jones, Ruth Negga, Donald...</td>\n",
       "      <td>scifi</td>\n",
       "      <td>Ad Astra takes a visually thrilling journey th...</td>\n",
       "      <td>Public</td>\n",
       "    </tr>\n",
       "    <tr>\n",
       "      <th>4</th>\n",
       "      <td>Westworld</td>\n",
       "      <td>1973</td>\n",
       "      <td>85</td>\n",
       "      <td>Michael Crichton</td>\n",
       "      <td>Westworld is a futuristic theme park where pa...</td>\n",
       "      <td>Yul Brynner, Richard Benjamin, James Brolin, N...</td>\n",
       "      <td>scifi</td>\n",
       "      <td>Yul Brynner gives a memorable performance as a...</td>\n",
       "      <td>Public</td>\n",
       "    </tr>\n",
       "    <tr>\n",
       "      <th>...</th>\n",
       "      <td>...</td>\n",
       "      <td>...</td>\n",
       "      <td>...</td>\n",
       "      <td>...</td>\n",
       "      <td>...</td>\n",
       "      <td>...</td>\n",
       "      <td>...</td>\n",
       "      <td>...</td>\n",
       "      <td>...</td>\n",
       "    </tr>\n",
       "    <tr>\n",
       "      <th>2217</th>\n",
       "      <td>Spider-Man 3</td>\n",
       "      <td>2007</td>\n",
       "      <td>63</td>\n",
       "      <td>Sam Raimi</td>\n",
       "      <td>Peter Parker (Tobey Maguire) and M.J. (Kirste...</td>\n",
       "      <td>Tobey Maguire, Kirsten Dunst, James Franco, Th...</td>\n",
       "      <td>Super-hero</td>\n",
       "      <td>Though there are more characters and plotlines...</td>\n",
       "      <td>public</td>\n",
       "    </tr>\n",
       "    <tr>\n",
       "      <th>2218</th>\n",
       "      <td>The Powerpuff Girls Movie</td>\n",
       "      <td>2002</td>\n",
       "      <td>64</td>\n",
       "      <td>Craig McCracken</td>\n",
       "      <td>Based on the hit animated television series, ...</td>\n",
       "      <td>Catherine Cavadini, E.G. Daily, Roger L. Jacks...</td>\n",
       "      <td>Super-hero</td>\n",
       "      <td>It plays like an extended episode, but The Pow...</td>\n",
       "      <td>public</td>\n",
       "    </tr>\n",
       "    <tr>\n",
       "      <th>2219</th>\n",
       "      <td>Hulk</td>\n",
       "      <td>2003</td>\n",
       "      <td>62</td>\n",
       "      <td>Ang Lee</td>\n",
       "      <td>Eric Bana (\"Black Hawk Down\") stars as scient...</td>\n",
       "      <td>Eric Bana, Jennifer Connelly, Sam Elliott, Jos...</td>\n",
       "      <td>Super-hero</td>\n",
       "      <td>While Ang Lee's ambitious film earns marks for...</td>\n",
       "      <td>public</td>\n",
       "    </tr>\n",
       "    <tr>\n",
       "      <th>2220</th>\n",
       "      <td>Swamp Thing</td>\n",
       "      <td>1982</td>\n",
       "      <td>60</td>\n",
       "      <td>Wes Craven</td>\n",
       "      <td>On the verge of a breakthrough in his quest t...</td>\n",
       "      <td>Louis Jourdan, Adrienne Barbeau, Ray Wise, Dav...</td>\n",
       "      <td>Super-hero</td>\n",
       "      <td>Unabashedly campy -- often to its detriment --...</td>\n",
       "      <td>public</td>\n",
       "    </tr>\n",
       "    <tr>\n",
       "      <th>2221</th>\n",
       "      <td>Mystery Men</td>\n",
       "      <td>1999</td>\n",
       "      <td>61</td>\n",
       "      <td>Kinka Usher</td>\n",
       "      <td>Champion City already has a superhero, the ap...</td>\n",
       "      <td>Hank Azaria, Janeane Garofalo, William H. Macy...</td>\n",
       "      <td>Super-hero</td>\n",
       "      <td>Absurd characters and quirky gags are brought ...</td>\n",
       "      <td>public</td>\n",
       "    </tr>\n",
       "  </tbody>\n",
       "</table>\n",
       "<p>2222 rows × 9 columns</p>\n",
       "</div>"
      ],
      "text/plain": [
       "                               Movie Title  Year  Score  \\\n",
       "0     The Hitchhiker's Guide to the Galaxy  2005     60   \n",
       "1                              The Endless  2017     92   \n",
       "2                               Timecrimes  2007     90   \n",
       "3                                 Ad Astra  2019     83   \n",
       "4                                Westworld  1973     85   \n",
       "...                                    ...   ...    ...   \n",
       "2217                          Spider-Man 3  2007     63   \n",
       "2218             The Powerpuff Girls Movie  2002     64   \n",
       "2219                                  Hulk  2003     62   \n",
       "2220                           Swamp Thing  1982     60   \n",
       "2221                           Mystery Men  1999     61   \n",
       "\n",
       "                           Director  \\\n",
       "0                    Garth Jennings   \n",
       "1     Aaron Moorhead, Justin Benson   \n",
       "2                   Nacho Vigalondo   \n",
       "3                        James Gray   \n",
       "4                  Michael Crichton   \n",
       "...                             ...   \n",
       "2217                      Sam Raimi   \n",
       "2218                Craig McCracken   \n",
       "2219                        Ang Lee   \n",
       "2220                     Wes Craven   \n",
       "2221                    Kinka Usher   \n",
       "\n",
       "                                               Synopsis  \\\n",
       "0      Arthur Dent (Martin Freeman) is trying to pre...   \n",
       "1      Two brothers receive a cryptic video message ...   \n",
       "2      Nacho Vigalondo's time-travel thriller opens ...   \n",
       "3      Thirty years ago, Clifford McBride led a voya...   \n",
       "4      Westworld is a futuristic theme park where pa...   \n",
       "...                                                 ...   \n",
       "2217   Peter Parker (Tobey Maguire) and M.J. (Kirste...   \n",
       "2218   Based on the hit animated television series, ...   \n",
       "2219   Eric Bana (\"Black Hawk Down\") stars as scient...   \n",
       "2220   On the verge of a breakthrough in his quest t...   \n",
       "2221   Champion City already has a superhero, the ap...   \n",
       "\n",
       "                                                   Cast       Genre  \\\n",
       "0     Martin Freeman, Mos Def, Sam Rockwell, Zooey D...       scifi   \n",
       "1     Aaron Moorhead, Justin Benson, Callie Hernande...       scifi   \n",
       "2     Karra Elejalde, Candela Fernández, Bárbara Goe...       scifi   \n",
       "3     Brad Pitt, Tommy Lee Jones, Ruth Negga, Donald...       scifi   \n",
       "4     Yul Brynner, Richard Benjamin, James Brolin, N...       scifi   \n",
       "...                                                 ...         ...   \n",
       "2217  Tobey Maguire, Kirsten Dunst, James Franco, Th...  Super-hero   \n",
       "2218  Catherine Cavadini, E.G. Daily, Roger L. Jacks...  Super-hero   \n",
       "2219  Eric Bana, Jennifer Connelly, Sam Elliott, Jos...  Super-hero   \n",
       "2220  Louis Jourdan, Adrienne Barbeau, Ray Wise, Dav...  Super-hero   \n",
       "2221  Hank Azaria, Janeane Garofalo, William H. Macy...  Super-hero   \n",
       "\n",
       "                                       Critic_Consensus Platform  \n",
       "0     A frantic and occasional funny adaptation of D...   Public  \n",
       "1     The Endless benefits from its grounded approac...   Public  \n",
       "2     Timecrimes is a low-budget thriller that's wel...   Public  \n",
       "3     Ad Astra takes a visually thrilling journey th...   Public  \n",
       "4     Yul Brynner gives a memorable performance as a...   Public  \n",
       "...                                                 ...      ...  \n",
       "2217  Though there are more characters and plotlines...   public  \n",
       "2218  It plays like an extended episode, but The Pow...   public  \n",
       "2219  While Ang Lee's ambitious film earns marks for...   public  \n",
       "2220  Unabashedly campy -- often to its detriment --...   public  \n",
       "2221  Absurd characters and quirky gags are brought ...   public  \n",
       "\n",
       "[2222 rows x 9 columns]"
      ]
     },
     "execution_count": 4,
     "metadata": {},
     "output_type": "execute_result"
    }
   ],
   "source": [
    "movies.fillna(\"\")"
   ]
  },
  {
   "cell_type": "code",
   "execution_count": 5,
   "id": "30752ed4",
   "metadata": {},
   "outputs": [],
   "source": [
    "movies['Year']= movies['Year'].map(str)\n",
    "movies['Score']= movies['Score'].map(str)"
   ]
  },
  {
   "cell_type": "code",
   "execution_count": 6,
   "id": "a837d505",
   "metadata": {},
   "outputs": [
    {
     "data": {
      "text/html": [
       "<div>\n",
       "<style scoped>\n",
       "    .dataframe tbody tr th:only-of-type {\n",
       "        vertical-align: middle;\n",
       "    }\n",
       "\n",
       "    .dataframe tbody tr th {\n",
       "        vertical-align: top;\n",
       "    }\n",
       "\n",
       "    .dataframe thead th {\n",
       "        text-align: right;\n",
       "    }\n",
       "</style>\n",
       "<table border=\"1\" class=\"dataframe\">\n",
       "  <thead>\n",
       "    <tr style=\"text-align: right;\">\n",
       "      <th></th>\n",
       "      <th>Movie Title</th>\n",
       "      <th>Year</th>\n",
       "      <th>Score</th>\n",
       "      <th>Director</th>\n",
       "      <th>Synopsis</th>\n",
       "      <th>Cast</th>\n",
       "      <th>Genre</th>\n",
       "      <th>Critic_Consensus</th>\n",
       "      <th>Platform</th>\n",
       "      <th>tag</th>\n",
       "    </tr>\n",
       "  </thead>\n",
       "  <tbody>\n",
       "    <tr>\n",
       "      <th>0</th>\n",
       "      <td>The Hitchhiker's Guide to the Galaxy</td>\n",
       "      <td>2005</td>\n",
       "      <td>60</td>\n",
       "      <td>Garth Jennings</td>\n",
       "      <td>Arthur Dent (Martin Freeman) is trying to pre...</td>\n",
       "      <td>Martin Freeman, Mos Def, Sam Rockwell, Zooey D...</td>\n",
       "      <td>scifi</td>\n",
       "      <td>A frantic and occasional funny adaptation of D...</td>\n",
       "      <td>Public</td>\n",
       "      <td>Garth Jennings  Arthur Dent (Martin Freeman) i...</td>\n",
       "    </tr>\n",
       "    <tr>\n",
       "      <th>1</th>\n",
       "      <td>The Endless</td>\n",
       "      <td>2017</td>\n",
       "      <td>92</td>\n",
       "      <td>Aaron Moorhead, Justin Benson</td>\n",
       "      <td>Two brothers receive a cryptic video message ...</td>\n",
       "      <td>Aaron Moorhead, Justin Benson, Callie Hernande...</td>\n",
       "      <td>scifi</td>\n",
       "      <td>The Endless benefits from its grounded approac...</td>\n",
       "      <td>Public</td>\n",
       "      <td>Aaron Moorhead, Justin Benson  Two brothers re...</td>\n",
       "    </tr>\n",
       "    <tr>\n",
       "      <th>2</th>\n",
       "      <td>Timecrimes</td>\n",
       "      <td>2007</td>\n",
       "      <td>90</td>\n",
       "      <td>Nacho Vigalondo</td>\n",
       "      <td>Nacho Vigalondo's time-travel thriller opens ...</td>\n",
       "      <td>Karra Elejalde, Candela Fernández, Bárbara Goe...</td>\n",
       "      <td>scifi</td>\n",
       "      <td>Timecrimes is a low-budget thriller that's wel...</td>\n",
       "      <td>Public</td>\n",
       "      <td>Nacho Vigalondo  Nacho Vigalondo's time-travel...</td>\n",
       "    </tr>\n",
       "    <tr>\n",
       "      <th>3</th>\n",
       "      <td>Ad Astra</td>\n",
       "      <td>2019</td>\n",
       "      <td>83</td>\n",
       "      <td>James Gray</td>\n",
       "      <td>Thirty years ago, Clifford McBride led a voya...</td>\n",
       "      <td>Brad Pitt, Tommy Lee Jones, Ruth Negga, Donald...</td>\n",
       "      <td>scifi</td>\n",
       "      <td>Ad Astra takes a visually thrilling journey th...</td>\n",
       "      <td>Public</td>\n",
       "      <td>James Gray  Thirty years ago, Clifford McBride...</td>\n",
       "    </tr>\n",
       "    <tr>\n",
       "      <th>4</th>\n",
       "      <td>Westworld</td>\n",
       "      <td>1973</td>\n",
       "      <td>85</td>\n",
       "      <td>Michael Crichton</td>\n",
       "      <td>Westworld is a futuristic theme park where pa...</td>\n",
       "      <td>Yul Brynner, Richard Benjamin, James Brolin, N...</td>\n",
       "      <td>scifi</td>\n",
       "      <td>Yul Brynner gives a memorable performance as a...</td>\n",
       "      <td>Public</td>\n",
       "      <td>Michael Crichton  Westworld is a futuristic th...</td>\n",
       "    </tr>\n",
       "  </tbody>\n",
       "</table>\n",
       "</div>"
      ],
      "text/plain": [
       "                            Movie Title  Year Score  \\\n",
       "0  The Hitchhiker's Guide to the Galaxy  2005    60   \n",
       "1                           The Endless  2017    92   \n",
       "2                            Timecrimes  2007    90   \n",
       "3                              Ad Astra  2019    83   \n",
       "4                             Westworld  1973    85   \n",
       "\n",
       "                        Director  \\\n",
       "0                 Garth Jennings   \n",
       "1  Aaron Moorhead, Justin Benson   \n",
       "2                Nacho Vigalondo   \n",
       "3                     James Gray   \n",
       "4               Michael Crichton   \n",
       "\n",
       "                                            Synopsis  \\\n",
       "0   Arthur Dent (Martin Freeman) is trying to pre...   \n",
       "1   Two brothers receive a cryptic video message ...   \n",
       "2   Nacho Vigalondo's time-travel thriller opens ...   \n",
       "3   Thirty years ago, Clifford McBride led a voya...   \n",
       "4   Westworld is a futuristic theme park where pa...   \n",
       "\n",
       "                                                Cast  Genre  \\\n",
       "0  Martin Freeman, Mos Def, Sam Rockwell, Zooey D...  scifi   \n",
       "1  Aaron Moorhead, Justin Benson, Callie Hernande...  scifi   \n",
       "2  Karra Elejalde, Candela Fernández, Bárbara Goe...  scifi   \n",
       "3  Brad Pitt, Tommy Lee Jones, Ruth Negga, Donald...  scifi   \n",
       "4  Yul Brynner, Richard Benjamin, James Brolin, N...  scifi   \n",
       "\n",
       "                                    Critic_Consensus Platform  \\\n",
       "0  A frantic and occasional funny adaptation of D...   Public   \n",
       "1  The Endless benefits from its grounded approac...   Public   \n",
       "2  Timecrimes is a low-budget thriller that's wel...   Public   \n",
       "3  Ad Astra takes a visually thrilling journey th...   Public   \n",
       "4  Yul Brynner gives a memorable performance as a...   Public   \n",
       "\n",
       "                                                 tag  \n",
       "0  Garth Jennings  Arthur Dent (Martin Freeman) i...  \n",
       "1  Aaron Moorhead, Justin Benson  Two brothers re...  \n",
       "2  Nacho Vigalondo  Nacho Vigalondo's time-travel...  \n",
       "3  James Gray  Thirty years ago, Clifford McBride...  \n",
       "4  Michael Crichton  Westworld is a futuristic th...  "
      ]
     },
     "execution_count": 6,
     "metadata": {},
     "output_type": "execute_result"
    }
   ],
   "source": [
    "# df['d'] = df[['a', 'b', 'c']].fillna('').agg('|'.join, axis=1)\n",
    "movies['tag']= movies[['Director','Synopsis','Cast','Critic_Consensus','Score','Year','Genre']].fillna(\"\").agg(' '.join,axis=1)\n",
    "movies.head(5)"
   ]
  },
  {
   "cell_type": "code",
   "execution_count": 7,
   "id": "daa09b20",
   "metadata": {},
   "outputs": [
    {
     "data": {
      "text/html": [
       "<div>\n",
       "<style scoped>\n",
       "    .dataframe tbody tr th:only-of-type {\n",
       "        vertical-align: middle;\n",
       "    }\n",
       "\n",
       "    .dataframe tbody tr th {\n",
       "        vertical-align: top;\n",
       "    }\n",
       "\n",
       "    .dataframe thead th {\n",
       "        text-align: right;\n",
       "    }\n",
       "</style>\n",
       "<table border=\"1\" class=\"dataframe\">\n",
       "  <thead>\n",
       "    <tr style=\"text-align: right;\">\n",
       "      <th></th>\n",
       "      <th>Movie Title</th>\n",
       "      <th>tag</th>\n",
       "    </tr>\n",
       "  </thead>\n",
       "  <tbody>\n",
       "    <tr>\n",
       "      <th>20</th>\n",
       "      <td>War of the Worlds</td>\n",
       "      <td>Steven Spielberg  Dockworker Ray Ferrier (Tom ...</td>\n",
       "    </tr>\n",
       "    <tr>\n",
       "      <th>1247</th>\n",
       "      <td>Halloween</td>\n",
       "      <td>John Carpenter  On a cold Halloween night in 1...</td>\n",
       "    </tr>\n",
       "    <tr>\n",
       "      <th>1497</th>\n",
       "      <td>Repo Man</td>\n",
       "      <td>Alex Cox  After being fired from his job, Los ...</td>\n",
       "    </tr>\n",
       "    <tr>\n",
       "      <th>124</th>\n",
       "      <td>Stalker</td>\n",
       "      <td>Andrei Tarkovsky  In an unnamed country at an ...</td>\n",
       "    </tr>\n",
       "    <tr>\n",
       "      <th>835</th>\n",
       "      <td>Knocked Up</td>\n",
       "      <td>Judd Apatow  Rising journalist Alison Scott (K...</td>\n",
       "    </tr>\n",
       "  </tbody>\n",
       "</table>\n",
       "</div>"
      ],
      "text/plain": [
       "            Movie Title                                                tag\n",
       "20    War of the Worlds  Steven Spielberg  Dockworker Ray Ferrier (Tom ...\n",
       "1247          Halloween  John Carpenter  On a cold Halloween night in 1...\n",
       "1497           Repo Man  Alex Cox  After being fired from his job, Los ...\n",
       "124             Stalker  Andrei Tarkovsky  In an unnamed country at an ...\n",
       "835          Knocked Up  Judd Apatow  Rising journalist Alison Scott (K..."
      ]
     },
     "execution_count": 7,
     "metadata": {},
     "output_type": "execute_result"
    }
   ],
   "source": [
    "movies = movies.drop(columns= ['Director','Genre','Platform','Synopsis','Cast','Critic_Consensus','Score','Year'])\n",
    "movies.sample(5)"
   ]
  },
  {
   "cell_type": "code",
   "execution_count": 8,
   "id": "e964df8b",
   "metadata": {},
   "outputs": [
    {
     "data": {
      "text/plain": [
       "'Michael Crichton  Westworld is a futuristic theme park where paying guests can pretend to be gunslingers in an artificial Wild West populated... [More] Yul Brynner, Richard Benjamin, James Brolin, Norman Bartold Yul Brynner gives a memorable performance as a robotic cowboy in this amusing sci-fi/western hybrid. 85 1973 scifi'"
      ]
     },
     "execution_count": 8,
     "metadata": {},
     "output_type": "execute_result"
    }
   ],
   "source": [
    "movies['tag'][4]"
   ]
  },
  {
   "cell_type": "code",
   "execution_count": 9,
   "id": "44ec9476",
   "metadata": {},
   "outputs": [
    {
     "data": {
      "text/html": [
       "<div>\n",
       "<style scoped>\n",
       "    .dataframe tbody tr th:only-of-type {\n",
       "        vertical-align: middle;\n",
       "    }\n",
       "\n",
       "    .dataframe tbody tr th {\n",
       "        vertical-align: top;\n",
       "    }\n",
       "\n",
       "    .dataframe thead th {\n",
       "        text-align: right;\n",
       "    }\n",
       "</style>\n",
       "<table border=\"1\" class=\"dataframe\">\n",
       "  <thead>\n",
       "    <tr style=\"text-align: right;\">\n",
       "      <th></th>\n",
       "      <th>Movie Title</th>\n",
       "      <th>tag</th>\n",
       "      <th>title</th>\n",
       "    </tr>\n",
       "  </thead>\n",
       "  <tbody>\n",
       "    <tr>\n",
       "      <th>2161</th>\n",
       "      <td>The LEGO Batman Movie</td>\n",
       "      <td>chris mckay  there are big changes brewing in ...</td>\n",
       "      <td>The LEGO Batman Movie</td>\n",
       "    </tr>\n",
       "    <tr>\n",
       "      <th>159</th>\n",
       "      <td>Safety Last</td>\n",
       "      <td>fred c. newmeyer, sam taylor  a boy (harold ll...</td>\n",
       "      <td>Safety Last</td>\n",
       "    </tr>\n",
       "    <tr>\n",
       "      <th>1164</th>\n",
       "      <td>Gerald's Game</td>\n",
       "      <td>mike flanagan  a woman accidentally kills her ...</td>\n",
       "      <td>Gerald's Game</td>\n",
       "    </tr>\n",
       "    <tr>\n",
       "      <th>19</th>\n",
       "      <td>Silent Running</td>\n",
       "      <td>douglas trumbull  after the end of all botanic...</td>\n",
       "      <td>Silent Running</td>\n",
       "    </tr>\n",
       "    <tr>\n",
       "      <th>1394</th>\n",
       "      <td>Grease</td>\n",
       "      <td>randal kleiser  experience the friendships, ro...</td>\n",
       "      <td>Grease</td>\n",
       "    </tr>\n",
       "  </tbody>\n",
       "</table>\n",
       "</div>"
      ],
      "text/plain": [
       "                Movie Title  \\\n",
       "2161  The LEGO Batman Movie   \n",
       "159             Safety Last   \n",
       "1164          Gerald's Game   \n",
       "19           Silent Running   \n",
       "1394                 Grease   \n",
       "\n",
       "                                                    tag                  title  \n",
       "2161  chris mckay  there are big changes brewing in ...  The LEGO Batman Movie  \n",
       "159   fred c. newmeyer, sam taylor  a boy (harold ll...            Safety Last  \n",
       "1164  mike flanagan  a woman accidentally kills her ...          Gerald's Game  \n",
       "19    douglas trumbull  after the end of all botanic...         Silent Running  \n",
       "1394  randal kleiser  experience the friendships, ro...                 Grease  "
      ]
     },
     "execution_count": 9,
     "metadata": {},
     "output_type": "execute_result"
    }
   ],
   "source": [
    "# converting in lowercase\n",
    "movies['title'] = movies['Movie Title']\n",
    "movies['tag'] = movies['tag'].str.lower()\n",
    "movies.sample(5)"
   ]
  },
  {
   "cell_type": "code",
   "execution_count": 10,
   "id": "9d52321a",
   "metadata": {},
   "outputs": [
    {
     "data": {
      "text/html": [
       "<div>\n",
       "<style scoped>\n",
       "    .dataframe tbody tr th:only-of-type {\n",
       "        vertical-align: middle;\n",
       "    }\n",
       "\n",
       "    .dataframe tbody tr th {\n",
       "        vertical-align: top;\n",
       "    }\n",
       "\n",
       "    .dataframe thead th {\n",
       "        text-align: right;\n",
       "    }\n",
       "</style>\n",
       "<table border=\"1\" class=\"dataframe\">\n",
       "  <thead>\n",
       "    <tr style=\"text-align: right;\">\n",
       "      <th></th>\n",
       "      <th>tag</th>\n",
       "      <th>title</th>\n",
       "    </tr>\n",
       "  </thead>\n",
       "  <tbody>\n",
       "    <tr>\n",
       "      <th>0</th>\n",
       "      <td>garth jennings  arthur dent (martin freeman) i...</td>\n",
       "      <td>The Hitchhiker's Guide to the Galaxy</td>\n",
       "    </tr>\n",
       "    <tr>\n",
       "      <th>1</th>\n",
       "      <td>aaron moorhead, justin benson  two brothers re...</td>\n",
       "      <td>The Endless</td>\n",
       "    </tr>\n",
       "    <tr>\n",
       "      <th>2</th>\n",
       "      <td>nacho vigalondo  nacho vigalondo's time-travel...</td>\n",
       "      <td>Timecrimes</td>\n",
       "    </tr>\n",
       "    <tr>\n",
       "      <th>3</th>\n",
       "      <td>james gray  thirty years ago, clifford mcbride...</td>\n",
       "      <td>Ad Astra</td>\n",
       "    </tr>\n",
       "    <tr>\n",
       "      <th>4</th>\n",
       "      <td>michael crichton  westworld is a futuristic th...</td>\n",
       "      <td>Westworld</td>\n",
       "    </tr>\n",
       "  </tbody>\n",
       "</table>\n",
       "</div>"
      ],
      "text/plain": [
       "                                                 tag  \\\n",
       "0  garth jennings  arthur dent (martin freeman) i...   \n",
       "1  aaron moorhead, justin benson  two brothers re...   \n",
       "2  nacho vigalondo  nacho vigalondo's time-travel...   \n",
       "3  james gray  thirty years ago, clifford mcbride...   \n",
       "4  michael crichton  westworld is a futuristic th...   \n",
       "\n",
       "                                  title  \n",
       "0  The Hitchhiker's Guide to the Galaxy  \n",
       "1                           The Endless  \n",
       "2                            Timecrimes  \n",
       "3                              Ad Astra  \n",
       "4                             Westworld  "
      ]
     },
     "execution_count": 10,
     "metadata": {},
     "output_type": "execute_result"
    }
   ],
   "source": [
    "movies.drop(columns=['Movie Title'],inplace=True)\n",
    "movies.head()"
   ]
  },
  {
   "cell_type": "code",
   "execution_count": 11,
   "id": "4cb360ea",
   "metadata": {},
   "outputs": [],
   "source": [
    "# remove html tags\n",
    "import re\n",
    "def remove_html_tags(text):\n",
    "    pattern = re.compile('<.*?>')\n",
    "    return pattern.sub(r'', text)"
   ]
  },
  {
   "cell_type": "code",
   "execution_count": 12,
   "id": "afff9f6e",
   "metadata": {},
   "outputs": [
    {
     "data": {
      "text/html": [
       "<div>\n",
       "<style scoped>\n",
       "    .dataframe tbody tr th:only-of-type {\n",
       "        vertical-align: middle;\n",
       "    }\n",
       "\n",
       "    .dataframe tbody tr th {\n",
       "        vertical-align: top;\n",
       "    }\n",
       "\n",
       "    .dataframe thead th {\n",
       "        text-align: right;\n",
       "    }\n",
       "</style>\n",
       "<table border=\"1\" class=\"dataframe\">\n",
       "  <thead>\n",
       "    <tr style=\"text-align: right;\">\n",
       "      <th></th>\n",
       "      <th>tag</th>\n",
       "      <th>title</th>\n",
       "    </tr>\n",
       "  </thead>\n",
       "  <tbody>\n",
       "    <tr>\n",
       "      <th>2172</th>\n",
       "      <td>anthony russo, joe russo  iron man, thor, the ...</td>\n",
       "      <td>Avengers: Infinity War</td>\n",
       "    </tr>\n",
       "    <tr>\n",
       "      <th>1921</th>\n",
       "      <td>ti west  a mysterious drifter (ethan hawke) an...</td>\n",
       "      <td>In a Valley of Violence</td>\n",
       "    </tr>\n",
       "    <tr>\n",
       "      <th>1251</th>\n",
       "      <td>george a. romero  a disparate group of individ...</td>\n",
       "      <td>Night of the Living Dead</td>\n",
       "    </tr>\n",
       "    <tr>\n",
       "      <th>2085</th>\n",
       "      <td>stanley kubrick  stanley kubrick's take on the...</td>\n",
       "      <td>Full Metal Jacket</td>\n",
       "    </tr>\n",
       "    <tr>\n",
       "      <th>1563</th>\n",
       "      <td>kelly reichardt  wendy (michelle williams), a ...</td>\n",
       "      <td>Wendy and Lucy</td>\n",
       "    </tr>\n",
       "  </tbody>\n",
       "</table>\n",
       "</div>"
      ],
      "text/plain": [
       "                                                    tag  \\\n",
       "2172  anthony russo, joe russo  iron man, thor, the ...   \n",
       "1921  ti west  a mysterious drifter (ethan hawke) an...   \n",
       "1251  george a. romero  a disparate group of individ...   \n",
       "2085  stanley kubrick  stanley kubrick's take on the...   \n",
       "1563  kelly reichardt  wendy (michelle williams), a ...   \n",
       "\n",
       "                         title  \n",
       "2172    Avengers: Infinity War  \n",
       "1921   In a Valley of Violence  \n",
       "1251  Night of the Living Dead  \n",
       "2085         Full Metal Jacket  \n",
       "1563            Wendy and Lucy  "
      ]
     },
     "execution_count": 12,
     "metadata": {},
     "output_type": "execute_result"
    }
   ],
   "source": [
    "\n",
    "movies['tag'] = movies['tag'].apply(remove_html_tags)\n",
    "movies.sample(5)"
   ]
  },
  {
   "cell_type": "code",
   "execution_count": 13,
   "id": "48dfc8c0",
   "metadata": {},
   "outputs": [
    {
     "data": {
      "text/html": [
       "<div>\n",
       "<style scoped>\n",
       "    .dataframe tbody tr th:only-of-type {\n",
       "        vertical-align: middle;\n",
       "    }\n",
       "\n",
       "    .dataframe tbody tr th {\n",
       "        vertical-align: top;\n",
       "    }\n",
       "\n",
       "    .dataframe thead th {\n",
       "        text-align: right;\n",
       "    }\n",
       "</style>\n",
       "<table border=\"1\" class=\"dataframe\">\n",
       "  <thead>\n",
       "    <tr style=\"text-align: right;\">\n",
       "      <th></th>\n",
       "      <th>tag</th>\n",
       "      <th>title</th>\n",
       "    </tr>\n",
       "  </thead>\n",
       "  <tbody>\n",
       "    <tr>\n",
       "      <th>2015</th>\n",
       "      <td>ridley scott  the film takes place in 1993 whe...</td>\n",
       "      <td>Black Hawk Down</td>\n",
       "    </tr>\n",
       "    <tr>\n",
       "      <th>2020</th>\n",
       "      <td>mel gibson  tells the story of the legendary t...</td>\n",
       "      <td>Braveheart</td>\n",
       "    </tr>\n",
       "    <tr>\n",
       "      <th>486</th>\n",
       "      <td>carroll ballard  xan (alexander michaletos) li...</td>\n",
       "      <td>Duma</td>\n",
       "    </tr>\n",
       "    <tr>\n",
       "      <th>2179</th>\n",
       "      <td>alex proyas  the night before his wedding, mus...</td>\n",
       "      <td>The Crow</td>\n",
       "    </tr>\n",
       "    <tr>\n",
       "      <th>2121</th>\n",
       "      <td>paul mcguigan  in this contemporary version of...</td>\n",
       "      <td>Sherlock</td>\n",
       "    </tr>\n",
       "  </tbody>\n",
       "</table>\n",
       "</div>"
      ],
      "text/plain": [
       "                                                    tag            title\n",
       "2015  ridley scott  the film takes place in 1993 whe...  Black Hawk Down\n",
       "2020  mel gibson  tells the story of the legendary t...       Braveheart\n",
       "486   carroll ballard  xan (alexander michaletos) li...             Duma\n",
       "2179  alex proyas  the night before his wedding, mus...         The Crow\n",
       "2121  paul mcguigan  in this contemporary version of...         Sherlock"
      ]
     },
     "execution_count": 13,
     "metadata": {},
     "output_type": "execute_result"
    }
   ],
   "source": [
    "# remove punctuation\n",
    "import string\n",
    "exclude = string.punctuation\n",
    "def remove_punc1(text):\n",
    "    return text.translate(str.maketrans('', '', exclude))\n",
    "\n",
    "\n",
    "movies['tag'].apply(remove_punc1)\n",
    "movies.sample(5)"
   ]
  },
  {
   "cell_type": "code",
   "execution_count": 14,
   "id": "77a7eb9d",
   "metadata": {},
   "outputs": [],
   "source": [
    "from nltk.corpus import stopwords\n"
   ]
  },
  {
   "cell_type": "code",
   "execution_count": 15,
   "id": "63039b98",
   "metadata": {},
   "outputs": [
    {
     "name": "stderr",
     "output_type": "stream",
     "text": [
      "[nltk_data] Downloading package stopwords to C:\\Users\\Aryan\n",
      "[nltk_data]     Chaturvedi\\AppData\\Roaming\\nltk_data...\n",
      "[nltk_data]   Package stopwords is already up-to-date!\n"
     ]
    },
    {
     "data": {
      "text/plain": [
       "True"
      ]
     },
     "execution_count": 15,
     "metadata": {},
     "output_type": "execute_result"
    }
   ],
   "source": [
    "import nltk\n",
    "nltk.download('stopwords')"
   ]
  },
  {
   "cell_type": "code",
   "execution_count": null,
   "id": "f7eeaaf5",
   "metadata": {},
   "outputs": [],
   "source": []
  },
  {
   "cell_type": "code",
   "execution_count": 16,
   "id": "468f30df",
   "metadata": {},
   "outputs": [],
   "source": [
    "def remove_stopwords(text):\n",
    "    new_text = []\n",
    "    \n",
    "    for word in text.split():\n",
    "        if word in stopwords.words('english'):\n",
    "            new_text.append('')\n",
    "        else:\n",
    "            new_text.append(word)\n",
    "    x = new_text[:]\n",
    "    new_text.clear()\n",
    "    return \" \".join(x)"
   ]
  },
  {
   "cell_type": "code",
   "execution_count": 17,
   "id": "3e32ca7e",
   "metadata": {},
   "outputs": [
    {
     "data": {
      "text/plain": [
       "\"nacho vigalondo  nacho vigalondo's time-travel thriller opens with hector spying on a beautiful woman undressing in the woods near his property. investigating,... [more] karra elejalde, candela fernández, bárbara goenaga, juan inciarte timecrimes is a low-budget thriller that's well-crafted and loaded with dark humor and bizarre twists. 90 2007 scifi\""
      ]
     },
     "execution_count": 17,
     "metadata": {},
     "output_type": "execute_result"
    }
   ],
   "source": [
    "movies['tag'][2]"
   ]
  },
  {
   "cell_type": "code",
   "execution_count": 18,
   "id": "1a841dee",
   "metadata": {},
   "outputs": [],
   "source": [
    "movies['tag']= movies['tag'].apply(remove_stopwords)\n"
   ]
  },
  {
   "cell_type": "code",
   "execution_count": 19,
   "id": "42f4a384",
   "metadata": {},
   "outputs": [
    {
     "data": {
      "text/plain": [
       "\"nacho vigalondo nacho vigalondo's time-travel thriller opens  hector spying   beautiful woman undressing   woods near  property. investigating,... [more] karra elejalde, candela fernández, bárbara goenaga, juan inciarte timecrimes   low-budget thriller that's well-crafted  loaded  dark humor  bizarre twists. 90 2007 scifi\""
      ]
     },
     "execution_count": 19,
     "metadata": {},
     "output_type": "execute_result"
    }
   ],
   "source": [
    "movies['tag'][2]"
   ]
  },
  {
   "cell_type": "code",
   "execution_count": 20,
   "id": "c01cad2d",
   "metadata": {},
   "outputs": [],
   "source": [
    "from sklearn.feature_extraction.text import CountVectorizer\n",
    "cv = CountVectorizer(stop_words='english')"
   ]
  },
  {
   "cell_type": "code",
   "execution_count": 21,
   "id": "c13ca641",
   "metadata": {},
   "outputs": [
    {
     "data": {
      "text/plain": [
       "(2222, 15358)"
      ]
     },
     "execution_count": 21,
     "metadata": {},
     "output_type": "execute_result"
    }
   ],
   "source": [
    "vector = cv.fit_transform(movies['tag'])\n",
    "vector.shape"
   ]
  },
  {
   "cell_type": "code",
   "execution_count": 22,
   "id": "bbfb35d8",
   "metadata": {},
   "outputs": [],
   "source": [
    "from sklearn.metrics.pairwise import cosine_similarity"
   ]
  },
  {
   "cell_type": "code",
   "execution_count": 23,
   "id": "f8f304f6",
   "metadata": {},
   "outputs": [],
   "source": [
    "similarity = cosine_similarity(vector)"
   ]
  },
  {
   "cell_type": "code",
   "execution_count": 24,
   "id": "ad9adccd",
   "metadata": {},
   "outputs": [
    {
     "data": {
      "text/plain": [
       "(2222, 2222)"
      ]
     },
     "execution_count": 24,
     "metadata": {},
     "output_type": "execute_result"
    }
   ],
   "source": [
    "similarity.shape"
   ]
  },
  {
   "cell_type": "code",
   "execution_count": 25,
   "id": "333cecbf",
   "metadata": {},
   "outputs": [
    {
     "data": {
      "text/plain": [
       "array([1.        , 0.0180129 , 0.02222771, ..., 0.02150662, 0.02275079,\n",
       "       0.        ])"
      ]
     },
     "execution_count": 25,
     "metadata": {},
     "output_type": "execute_result"
    }
   ],
   "source": [
    "similarity[0]"
   ]
  },
  {
   "cell_type": "code",
   "execution_count": 26,
   "id": "7f8ec569",
   "metadata": {},
   "outputs": [
    {
     "data": {
      "text/plain": [
       "144"
      ]
     },
     "execution_count": 26,
     "metadata": {},
     "output_type": "execute_result"
    }
   ],
   "source": [
    "movies[movies['title']=='The Matrix'].index[0]"
   ]
  },
  {
   "cell_type": "code",
   "execution_count": 27,
   "id": "b021de5b",
   "metadata": {},
   "outputs": [],
   "source": [
    "def recommend(movie):\n",
    "    index = movies[movies['title'] == movie].index[0]\n",
    "    m=[]\n",
    "    distances = sorted(list(enumerate(similarity[index])),reverse=True,key = lambda x: x[1])\n",
    "    \n",
    "    count=25\n",
    "    for i in distances[1:count]:\n",
    "        if movies.iloc[i[0]].title in m:\n",
    "            count= count + 1\n",
    "        else:\n",
    "            m.append(movies.iloc[i[0]].title)\n",
    "            print(movies.iloc[i[0]].title)\n",
    "            \n",
    "        \n",
    "        \n",
    "    "
   ]
  },
  {
   "cell_type": "code",
   "execution_count": 28,
   "id": "dd4c9bb6",
   "metadata": {},
   "outputs": [
    {
     "name": "stdout",
     "output_type": "stream",
     "text": [
      "Iron Man\n",
      "Iron Man 2\n",
      "Iron Man 3\n",
      "Kiss Kiss, Bang Bang\n",
      "Tropic Thunder\n",
      "Avengers: Age of Ultron\n",
      "Avengers: Endgame\n",
      "Spider-Man: Homecoming\n",
      "Chances Are\n",
      "A Scanner Darkly\n",
      "Captain America: Civil War\n",
      "Avengers: Infinity War\n"
     ]
    }
   ],
   "source": [
    "recommend(\"Iron Man\")"
   ]
  },
  {
   "cell_type": "code",
   "execution_count": null,
   "id": "a31e8f31",
   "metadata": {},
   "outputs": [],
   "source": []
  }
 ],
 "metadata": {
  "kernelspec": {
   "display_name": "Python 3 (ipykernel)",
   "language": "python",
   "name": "python3"
  },
  "language_info": {
   "codemirror_mode": {
    "name": "ipython",
    "version": 3
   },
   "file_extension": ".py",
   "mimetype": "text/x-python",
   "name": "python",
   "nbconvert_exporter": "python",
   "pygments_lexer": "ipython3",
   "version": "3.10.4"
  }
 },
 "nbformat": 4,
 "nbformat_minor": 5
}
